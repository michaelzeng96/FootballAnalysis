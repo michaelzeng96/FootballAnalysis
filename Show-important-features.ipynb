{
 "cells": [
  {
   "cell_type": "code",
   "execution_count": 60,
   "metadata": {
    "collapsed": false
   },
   "outputs": [],
   "source": [
    "from sklearn import ensemble\n",
    "from sklearn.cross_validation import train_test_split\n",
    "import pandas as pd\n",
    "import numpy as np\n",
    "import matplotlib.pyplot as plt\n",
    "\n",
    "# read in and format data\n",
    "def strToFloat(data):\n",
    "    stringNums = {string: i for i, string in enumerate(set(data))}\n",
    "    return np.array([stringNums[d] for d in data])\n",
    "\n",
    "raw_df = pd.read_csv(\"data.csv\")\n",
    "df = pd.DataFrame()\n",
    "\n",
    "# convert strings to integer classes\n",
    "for col in raw_df.columns:\n",
    "    if raw_df[col].dtype == np.dtype('O'):\n",
    "        df[col] = strToFloat(raw_df[col])\n",
    "    else:\n",
    "        df[col] = raw_df[col]\n",
    "\n",
    "del raw_df\n",
    "\n",
    "# replace NaNs (missing values) with -1\n",
    "df[np.isnan(df)] = -1\n",
    "\n",
    "#classify yards gained/lost\n",
    "gnls = np.array(df[\"GN/LS\"])\n",
    "gnls[gnls <= 0] = 0\n",
    "gnls[gnls < 10] = 1\n",
    "gnls[gnls >= 10] = 2\n",
    "df[\"GN/LS\"] = gnls\n",
    "        \n",
    "#drop opponent team name\n",
    "df = df.drop(\"OPP TEAM\", 1)\n",
    "\n",
    "#drop PLAY NUMBER\n",
    "df = df.drop(\"PLAY #\", 1)\n",
    "\n",
    "#DROP ODK (not needed, plus it's importance is 0)\n",
    "df = df.drop(\"ODK\", 1)\n",
    "\n",
    "train, test = train_test_split(df, test_size=0.2)\n",
    "\n",
    "y_train = train[\"GN/LS\"]\n",
    "x_train = train\n",
    "del x_train[\"GN/LS\"]\n",
    "\n",
    "y_test = test[\"GN/LS\"]\n",
    "x_test = test\n",
    "del x_test[\"GN/LS\"]\n"
   ]
  },
  {
   "cell_type": "code",
   "execution_count": 63,
   "metadata": {
    "collapsed": true
   },
   "outputs": [],
   "source": [
    "\n",
    "RFC = ensemble.RandomForestClassifier(n_estimators=1000, n_jobs=-1)\n",
    "RFC.fit(x_train, y_train)\n",
    "\n",
    "predicted = RFC.predict(x_test)\n",
    "actual = np.array(y_test)\n"
   ]
  },
  {
   "cell_type": "code",
   "execution_count": 64,
   "metadata": {
    "collapsed": false
   },
   "outputs": [
    {
     "name": "stdout",
     "output_type": "stream",
     "text": [
      "('Correlation: ', 0.53725282307603173)\n"
     ]
    }
   ],
   "source": [
    "correlation = np.corrcoef(np.array([predicted, actual]))[0, 1]\n",
    "print(\"Correlation: \", correlation)"
   ]
  },
  {
   "cell_type": "code",
   "execution_count": 65,
   "metadata": {
    "collapsed": false
   },
   "outputs": [],
   "source": [
    "#get list of features, ranked by importance\n",
    "importances = RFC.feature_importances_"
   ]
  },
  {
   "cell_type": "code",
   "execution_count": 67,
   "metadata": {
    "collapsed": false
   },
   "outputs": [
    {
     "name": "stdout",
     "output_type": "stream",
     "text": [
      "1. feature 3 (0.132134)\n",
      "2. feature 7 (0.126138)\n",
      "3. feature 9 (0.121393)\n",
      "4. feature 6 (0.116945)\n",
      "5. feature 13 (0.084889)\n",
      "6. feature 1 (0.065909)\n",
      "7. feature 11 (0.053484)\n",
      "8. feature 0 (0.044658)\n",
      "9. feature 14 (0.044366)\n",
      "10. feature 8 (0.043149)\n",
      "11. feature 2 (0.040050)\n",
      "12. feature 5 (0.037875)\n",
      "13. feature 4 (0.023580)\n",
      "14. feature 12 (0.022598)\n",
      "15. feature 10 (0.021034)\n",
      "16. feature 15 (0.011527)\n",
      "17. feature 16 (0.010271)\n"
     ]
    }
   ],
   "source": [
    "indices = np.argsort(importances)[::-1]\n",
    "\n",
    "for f in range(x_train.shape[1]):\n",
    "    print(\"%d. feature %d (%f)\" % (f+1, indices[f], importances[indices[f]]))\n",
    "    \n",
    "#feature 3 is YARD LN, feature 7 is RESULT, feature 9 is OFF PLAY\n",
    "#feature 6 is PASS ZONE, feature 13 is COVERAGE, feature 1 is DIST\n",
    "#etc... "
   ]
  },
  {
   "cell_type": "code",
   "execution_count": null,
   "metadata": {
    "collapsed": false
   },
   "outputs": [],
   "source": [
    "std = np.std([tree.feature_importances_ for tree in RFC.estimators_],\n",
    "            axis=0)\n",
    "plt.figure()\n",
    "plt.title(\"Feature importances\")\n",
    "plt.bar(range(x_train.shape[1]), importances[indices], color = \"r\",\n",
    "             yerr=std[indices], align=\"center\")\n",
    "plt.xticks(range(x_train.shape[1]), indices)\n",
    "plt.xlim([-1, x_train.shape[1]])\n",
    "plt.show()"
   ]
  },
  {
   "cell_type": "code",
   "execution_count": null,
   "metadata": {
    "collapsed": true
   },
   "outputs": [],
   "source": []
  }
 ],
 "metadata": {
  "kernelspec": {
   "display_name": "Python 2",
   "language": "python",
   "name": "python2"
  },
  "language_info": {
   "codemirror_mode": {
    "name": "ipython",
    "version": 2
   },
   "file_extension": ".py",
   "mimetype": "text/x-python",
   "name": "python",
   "nbconvert_exporter": "python",
   "pygments_lexer": "ipython2",
   "version": "2.7.11"
  }
 },
 "nbformat": 4,
 "nbformat_minor": 0
}
