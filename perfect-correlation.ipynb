{
 "cells": [
  {
   "cell_type": "code",
   "execution_count": 1,
   "metadata": {
    "collapsed": true
   },
   "outputs": [],
   "source": [
    "%matplotlib inline\n",
    "from sklearn import ensemble\n",
    "from sklearn.cross_validation import train_test_split\n",
    "import pandas as pd\n",
    "import numpy as np"
   ]
  },
  {
   "cell_type": "code",
   "execution_count": 2,
   "metadata": {
    "collapsed": true
   },
   "outputs": [],
   "source": [
    "def strToFloat(data):\n",
    "    stringNums = {string: i for i, string in enumerate(set(data))}\n",
    "    return np.array([stringNums[d] for d in data])"
   ]
  },
  {
   "cell_type": "code",
   "execution_count": 3,
   "metadata": {
    "collapsed": false
   },
   "outputs": [],
   "source": [
    "raw_df = pd.read_csv(\"data.csv\")\n",
    "df = pd.DataFrame()\n",
    "\n",
    "# convert strings to integer classes\n",
    "for col in raw_df.columns:\n",
    "    if raw_df[col].dtype == np.dtype('O'):\n",
    "        df[col] = strToFloat(raw_df[col])\n",
    "    else:\n",
    "        df[col] = raw_df[col]\n",
    "\n",
    "df.fillna(-1, inplace=True)\n",
    "\n",
    "del raw_df\n",
    "\n",
    "# replace NaNs (missing values) with -1\n",
    "df.fillna(-1, inplace=True)\n",
    "\n",
    "#classify yards gained/lost\n",
    "gnls = np.array(df[\"GN/LS\"])\n",
    "gnls[gnls <= 0] = 0\n",
    "gnls[gnls < 10] = 1\n",
    "gnls[gnls >= 10] = 2\n",
    "df[\"GN/LS\"] = gnls\n",
    "\n",
    "#drop opponent team name\n",
    "df = df.drop(\"OPP TEAM\", 1)\n",
    "\n",
    "train, test = train_test_split(df, test_size=0.2)\n",
    "\n",
    "y_train = train[\"GN/LS\"]\n",
    "x_train = train\n",
    "del x_train[\"GN/LS\"]\n",
    "\n",
    "y_test = test[\"GN/LS\"]\n",
    "x_test = test\n",
    "del x_test[\"GN/LS\"]"
   ]
  },
  {
   "cell_type": "code",
   "execution_count": 12,
   "metadata": {
    "collapsed": true
   },
   "outputs": [],
   "source": [
    "RFC = ensemble.RandomForestClassifier(n_estimators=100, n_jobs=-1)\n",
    "RFC.fit(x_train, y_train)\n",
    "\n",
    "predicted = RFC.predict(x_test)\n",
    "actual = np.array(y_test)"
   ]
  },
  {
   "cell_type": "code",
   "execution_count": 13,
   "metadata": {
    "collapsed": false
   },
   "outputs": [
    {
     "data": {
      "text/plain": [
       "array([[ 1.        ,  0.53185015],\n",
       "       [ 0.53185015,  1.        ]])"
      ]
     },
     "execution_count": 13,
     "metadata": {},
     "output_type": "execute_result"
    }
   ],
   "source": [
    "# control\n",
    "np.corrcoef(np.array([predicted, actual]))"
   ]
  },
  {
   "cell_type": "code",
   "execution_count": null,
   "metadata": {
    "collapsed": false
   },
   "outputs": [],
   "source": [
    "raw_df"
   ]
  },
  {
   "cell_type": "code",
   "execution_count": null,
   "metadata": {
    "collapsed": true
   },
   "outputs": [],
   "source": []
  }
 ],
 "metadata": {
  "kernelspec": {
   "display_name": "Python 2",
   "language": "python",
   "name": "python2"
  },
  "language_info": {
   "codemirror_mode": {
    "name": "ipython",
    "version": 2
   },
   "file_extension": ".py",
   "mimetype": "text/x-python",
   "name": "python",
   "nbconvert_exporter": "python",
   "pygments_lexer": "ipython2",
   "version": "2.7.11"
  }
 },
 "nbformat": 4,
 "nbformat_minor": 0
}
